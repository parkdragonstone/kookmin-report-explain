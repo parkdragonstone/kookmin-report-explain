{
 "cells": [
  {
   "cell_type": "code",
   "execution_count": 24,
   "metadata": {},
   "outputs": [],
   "source": [
    "import numpy as np\n",
    "import matplotlib.pyplot as plt\n",
    "import pandas as pd\n",
    "from glob import glob\n",
    "from pylab import rcParams\n",
    "import os\n",
    "import warnings\n",
    "import scipy.signal as signal\n",
    "warnings.filterwarnings('ignore')\n",
    "from datetime import datetime\n",
    "rcParams['figure.figsize'] = 12,4\n",
    "rcParams['savefig.dpi'] = 300\n",
    "from detecta import detect_onset, detect_peaks\n",
    "from tqdm import tqdm\n",
    "logo_path = 'logo/'\n",
    "now = datetime.now().strftime('%Y%m%d')"
   ]
  },
  {
   "cell_type": "code",
   "execution_count": 25,
   "metadata": {},
   "outputs": [
    {
     "data": {
      "text/plain": [
       "['data/20240212\\\\uplift_data_export_20240212083457.csv']"
      ]
     },
     "execution_count": 25,
     "metadata": {},
     "output_type": "execute_result"
    }
   ],
   "source": [
    "day = 20240212\n",
    "players = pd.read_excel(f'data/{day}/player information.xlsx', index_col='name')\n",
    "file_list = sorted(glob(f'data/{day}//*csv'))\n",
    "file_list"
   ]
  },
  {
   "cell_type": "code",
   "execution_count": 26,
   "metadata": {},
   "outputs": [
    {
     "name": "stderr",
     "output_type": "stream",
     "text": [
      "100%|██████████| 3/3 [00:00<00:00, 12.48it/s]\n"
     ]
    },
    {
     "data": {
      "text/plain": [
       "['n02_001', 'n02_002', 'n02_003']"
      ]
     },
     "execution_count": 26,
     "metadata": {},
     "output_type": "execute_result"
    }
   ],
   "source": [
    "all_sessions = []\n",
    "data = {}\n",
    "for file in file_list:\n",
    "    df = pd.read_csv(file)\n",
    "    sessions = df.sessionid.unique()\n",
    "    for session in tqdm(sessions):\n",
    "        d = df[df['sessionid'] == session].sort_values('frame').reset_index(drop=True)\n",
    "        side = d['handedness'][0]\n",
    "        trial = str(session.split('_')[-1]).zfill(3)\n",
    "        name = d['athlete_name'][0].replace(' ','')\n",
    "        all_sessions.append(f\"{name}_{trial}\")\n",
    "        data[f\"{name}_{trial}\"] = d.round(3)\n",
    "all_sessions"
   ]
  },
  {
   "cell_type": "code",
   "execution_count": 27,
   "metadata": {},
   "outputs": [],
   "source": [
    "session = 'n02_003'"
   ]
  },
  {
   "cell_type": "code",
   "execution_count": 28,
   "metadata": {},
   "outputs": [
    {
     "name": "stdout",
     "output_type": "stream",
     "text": [
      "TO Frame : 147\n",
      "KH Frame : 248\n",
      "FC Frame : 315\n",
      "BC Frame : 384\n"
     ]
    }
   ],
   "source": [
    "print(f\"TO Frame : {np.where(data[session]['trunk_twist_clockwise'] == 5.989)[0][0]}\")\n",
    "print(f\"KH Frame : {np.where(data[session]['trunk_twist_clockwise'] == -10.390)[0][0]}\")\n",
    "print(f\"FC Frame : {np.where(data[session]['trunk_twist_clockwise'] == -33.593)[0][0]}\")\n",
    "print(f\"BC Frame : {np.where(data[session]['trunk_twist_clockwise'] == -14.170)[0][0]}\")"
   ]
  },
  {
   "cell_type": "code",
   "execution_count": null,
   "metadata": {},
   "outputs": [],
   "source": []
  }
 ],
 "metadata": {
  "kernelspec": {
   "display_name": "ML",
   "language": "python",
   "name": "python3"
  },
  "language_info": {
   "codemirror_mode": {
    "name": "ipython",
    "version": 3
   },
   "file_extension": ".py",
   "mimetype": "text/x-python",
   "name": "python",
   "nbconvert_exporter": "python",
   "pygments_lexer": "ipython3",
   "version": "3.10.9"
  }
 },
 "nbformat": 4,
 "nbformat_minor": 2
}
