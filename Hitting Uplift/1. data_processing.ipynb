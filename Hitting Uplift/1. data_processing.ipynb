{
 "cells": [
  {
   "cell_type": "code",
   "execution_count": 1,
   "metadata": {},
   "outputs": [],
   "source": [
    "import numpy as np\n",
    "import matplotlib.pyplot as plt\n",
    "import pandas as pd\n",
    "from glob import glob\n",
    "from pylab import rcParams\n",
    "import os\n",
    "import warnings\n",
    "import scipy.signal as signal\n",
    "warnings.filterwarnings('ignore')\n",
    "from datetime import datetime\n",
    "rcParams['figure.figsize'] = 12,4\n",
    "rcParams['savefig.dpi'] = 300\n",
    "from detecta import detect_onset, detect_peaks\n",
    "from tqdm import tqdm\n",
    "logo_path = 'logo/'\n",
    "now = datetime.now().strftime('%Y%m%d')\n",
    "\n",
    "def lowpass_filter(data, sr, cut_off, order):\n",
    "    nyq = 0.5 * sr\n",
    "    b, a = signal.butter(order, cut_off/nyq, btype = 'low')\n",
    "    lp_df = signal.filtfilt(b, a, data)\n",
    "    return lp_df"
   ]
  },
  {
   "cell_type": "code",
   "execution_count": 2,
   "metadata": {},
   "outputs": [
    {
     "data": {
      "text/plain": [
       "['data/20240213/uplift_data_export_20240213113022.csv',\n",
       " 'data/20240213/uplift_data_export_20240213131339.csv',\n",
       " 'data/20240213/uplift_data_export_20240213132832.csv',\n",
       " 'data/20240213/uplift_data_export_20240213140631.csv',\n",
       " 'data/20240213/uplift_data_export_20240213140719.csv',\n",
       " 'data/20240213/uplift_data_export_20240213140726.csv',\n",
       " 'data/20240213/uplift_data_export_20240213143034.csv',\n",
       " 'data/20240213/uplift_data_export_20240213144038.csv',\n",
       " 'data/20240213/uplift_data_export_20240213144852.csv',\n",
       " 'data/20240213/uplift_data_export_20240213145603.csv',\n",
       " 'data/20240213/uplift_data_export_20240213150413.csv',\n",
       " 'data/20240213/uplift_data_export_20240213151249.csv',\n",
       " 'data/20240213/uplift_data_export_20240213161158.csv',\n",
       " 'data/20240213/uplift_data_export_20240213164704.csv',\n",
       " 'data/20240213/uplift_data_export_20240214005949.csv',\n",
       " 'data/20240213/uplift_data_export_20240214010153.csv',\n",
       " 'data/20240213/uplift_data_export_20240214011427.csv',\n",
       " 'data/20240213/uplift_data_export_20240214012305.csv',\n",
       " 'data/20240213/uplift_data_export_20240214012403.csv']"
      ]
     },
     "execution_count": 2,
     "metadata": {},
     "output_type": "execute_result"
    }
   ],
   "source": [
    "day = 20240213\n",
    "players = pd.read_excel(f'data/{day}/player information.xlsx', index_col='name')\n",
    "file_list = sorted(glob(f'data/{day}//*csv'))\n",
    "file_list"
   ]
  },
  {
   "cell_type": "code",
   "execution_count": 3,
   "metadata": {},
   "outputs": [
    {
     "name": "stderr",
     "output_type": "stream",
     "text": [
      "100%|██████████| 2/2 [00:00<00:00, 714.53it/s]\n",
      "100%|██████████| 3/3 [00:00<00:00, 816.12it/s]\n",
      "100%|██████████| 3/3 [00:00<00:00, 1105.32it/s]\n",
      "100%|██████████| 3/3 [00:00<00:00, 883.45it/s]\n",
      "100%|██████████| 3/3 [00:00<00:00, 923.11it/s]\n",
      "100%|██████████| 3/3 [00:00<00:00, 629.96it/s]\n",
      "100%|██████████| 3/3 [00:00<00:00, 1024.92it/s]\n",
      "100%|██████████| 3/3 [00:00<00:00, 925.89it/s]\n",
      "100%|██████████| 3/3 [00:00<00:00, 959.65it/s]\n",
      "100%|██████████| 2/2 [00:00<00:00, 804.20it/s]\n",
      "100%|██████████| 3/3 [00:00<00:00, 1092.46it/s]\n",
      "100%|██████████| 3/3 [00:00<00:00, 734.00it/s]\n",
      "100%|██████████| 3/3 [00:00<00:00, 722.24it/s]\n",
      "100%|██████████| 3/3 [00:00<00:00, 981.66it/s]\n",
      "100%|██████████| 2/2 [00:00<00:00, 945.62it/s]\n",
      "100%|██████████| 1/1 [00:00<00:00, 691.56it/s]\n",
      "100%|██████████| 2/2 [00:00<00:00, 778.74it/s]\n",
      "100%|██████████| 2/2 [00:00<00:00, 983.65it/s]\n",
      "100%|██████████| 1/1 [00:00<00:00, 822.41it/s]\n"
     ]
    },
    {
     "data": {
      "text/plain": [
       "['n02_002',\n",
       " 'n02_003',\n",
       " 'n03_001',\n",
       " 'n03_002',\n",
       " 'n03_003',\n",
       " 'n04_020',\n",
       " 'n04_021',\n",
       " 'n04_022',\n",
       " 'n05_001',\n",
       " 'n05_002',\n",
       " 'n05_003',\n",
       " 'n06_001',\n",
       " 'n06_002',\n",
       " 'n06_003',\n",
       " 'n07_001',\n",
       " 'n07_002',\n",
       " 'n07_003',\n",
       " 'n08_001',\n",
       " 'n08_002',\n",
       " 'n08_003',\n",
       " 'n09_001',\n",
       " 'n09_002',\n",
       " 'n09_003',\n",
       " 'n12_001',\n",
       " 'n12_002',\n",
       " 'n12_003',\n",
       " 'n13_002',\n",
       " 'n13_003',\n",
       " 'n15_001',\n",
       " 'n15_002',\n",
       " 'n15_003',\n",
       " 'n16_001',\n",
       " 'n16_002',\n",
       " 'n16_003',\n",
       " 'n17_001',\n",
       " 'n17_002',\n",
       " 'n17_003',\n",
       " 'n18_001',\n",
       " 'n18_002',\n",
       " 'n18_003',\n",
       " 'n10_002',\n",
       " 'n10_003',\n",
       " 'n14_001',\n",
       " 'n19_002',\n",
       " 'n19_003',\n",
       " 'n01_001',\n",
       " 'n01_002',\n",
       " 'n11_002']"
      ]
     },
     "execution_count": 3,
     "metadata": {},
     "output_type": "execute_result"
    }
   ],
   "source": [
    "all_sessions = []\n",
    "for file in file_list:\n",
    "    df = pd.read_csv(file)\n",
    "    sessions = df.sessionid.unique()\n",
    "    for session in tqdm(sessions):\n",
    "        d = df[df['sessionid'] == session].sort_values('frame').reset_index(drop=True)\n",
    "        side = d['handedness'][0]\n",
    "        trial = str(session.split('_')[-1]).zfill(3)\n",
    "        name = d['athlete_name'][0].replace(' ','')\n",
    "        all_sessions.append(f\"{name}_{trial}\")\n",
    "all_sessions"
   ]
  },
  {
   "cell_type": "code",
   "execution_count": 4,
   "metadata": {},
   "outputs": [
    {
     "name": "stdout",
     "output_type": "stream",
     "text": [
      "data/20240213/uplift_data_export_20240213113022.csv\n"
     ]
    },
    {
     "name": "stderr",
     "output_type": "stream",
     "text": [
      "100%|██████████| 2/2 [00:00<00:00, 17.31it/s]\n"
     ]
    },
    {
     "name": "stdout",
     "output_type": "stream",
     "text": [
      "data/20240213/uplift_data_export_20240213131339.csv\n"
     ]
    },
    {
     "name": "stderr",
     "output_type": "stream",
     "text": [
      "100%|██████████| 3/3 [00:00<00:00, 14.93it/s]\n"
     ]
    },
    {
     "name": "stdout",
     "output_type": "stream",
     "text": [
      "data/20240213/uplift_data_export_20240213132832.csv\n"
     ]
    },
    {
     "name": "stderr",
     "output_type": "stream",
     "text": [
      "100%|██████████| 3/3 [00:00<00:00, 24.00it/s]\n"
     ]
    },
    {
     "name": "stdout",
     "output_type": "stream",
     "text": [
      "data/20240213/uplift_data_export_20240213140631.csv\n"
     ]
    },
    {
     "name": "stderr",
     "output_type": "stream",
     "text": [
      "100%|██████████| 3/3 [00:00<00:00, 15.56it/s]\n"
     ]
    },
    {
     "name": "stdout",
     "output_type": "stream",
     "text": [
      "data/20240213/uplift_data_export_20240213140719.csv\n"
     ]
    },
    {
     "name": "stderr",
     "output_type": "stream",
     "text": [
      "100%|██████████| 3/3 [00:00<00:00, 18.77it/s]\n"
     ]
    },
    {
     "name": "stdout",
     "output_type": "stream",
     "text": [
      "data/20240213/uplift_data_export_20240213140726.csv\n"
     ]
    },
    {
     "name": "stderr",
     "output_type": "stream",
     "text": [
      "100%|██████████| 3/3 [00:00<00:00, 17.53it/s]\n"
     ]
    },
    {
     "name": "stdout",
     "output_type": "stream",
     "text": [
      "data/20240213/uplift_data_export_20240213143034.csv\n"
     ]
    },
    {
     "name": "stderr",
     "output_type": "stream",
     "text": [
      "100%|██████████| 3/3 [00:00<00:00, 18.21it/s]\n"
     ]
    },
    {
     "name": "stdout",
     "output_type": "stream",
     "text": [
      "data/20240213/uplift_data_export_20240213144038.csv\n"
     ]
    },
    {
     "name": "stderr",
     "output_type": "stream",
     "text": [
      "100%|██████████| 3/3 [00:00<00:00, 10.93it/s]\n"
     ]
    },
    {
     "name": "stdout",
     "output_type": "stream",
     "text": [
      "data/20240213/uplift_data_export_20240213144852.csv\n"
     ]
    },
    {
     "name": "stderr",
     "output_type": "stream",
     "text": [
      "100%|██████████| 3/3 [00:00<00:00, 19.08it/s]\n"
     ]
    },
    {
     "name": "stdout",
     "output_type": "stream",
     "text": [
      "data/20240213/uplift_data_export_20240213145603.csv\n"
     ]
    },
    {
     "name": "stderr",
     "output_type": "stream",
     "text": [
      "100%|██████████| 2/2 [00:00<00:00, 22.34it/s]\n"
     ]
    },
    {
     "name": "stdout",
     "output_type": "stream",
     "text": [
      "data/20240213/uplift_data_export_20240213150413.csv\n"
     ]
    },
    {
     "name": "stderr",
     "output_type": "stream",
     "text": [
      "100%|██████████| 3/3 [00:00<00:00, 17.23it/s]\n"
     ]
    },
    {
     "name": "stdout",
     "output_type": "stream",
     "text": [
      "data/20240213/uplift_data_export_20240213151249.csv\n"
     ]
    },
    {
     "name": "stderr",
     "output_type": "stream",
     "text": [
      "100%|██████████| 3/3 [00:00<00:00, 16.19it/s]\n"
     ]
    },
    {
     "name": "stdout",
     "output_type": "stream",
     "text": [
      "data/20240213/uplift_data_export_20240213161158.csv\n"
     ]
    },
    {
     "name": "stderr",
     "output_type": "stream",
     "text": [
      "100%|██████████| 3/3 [00:00<00:00, 11.65it/s]\n"
     ]
    },
    {
     "name": "stdout",
     "output_type": "stream",
     "text": [
      "data/20240213/uplift_data_export_20240213164704.csv\n"
     ]
    },
    {
     "name": "stderr",
     "output_type": "stream",
     "text": [
      "100%|██████████| 3/3 [00:00<00:00, 13.66it/s]\n"
     ]
    },
    {
     "name": "stdout",
     "output_type": "stream",
     "text": [
      "data/20240213/uplift_data_export_20240214005949.csv\n"
     ]
    },
    {
     "name": "stderr",
     "output_type": "stream",
     "text": [
      "100%|██████████| 2/2 [00:00<00:00, 18.57it/s]\n"
     ]
    },
    {
     "name": "stdout",
     "output_type": "stream",
     "text": [
      "data/20240213/uplift_data_export_20240214010153.csv\n"
     ]
    },
    {
     "name": "stderr",
     "output_type": "stream",
     "text": [
      "100%|██████████| 1/1 [00:00<00:00, 12.92it/s]\n"
     ]
    },
    {
     "name": "stdout",
     "output_type": "stream",
     "text": [
      "data/20240213/uplift_data_export_20240214011427.csv\n"
     ]
    },
    {
     "name": "stderr",
     "output_type": "stream",
     "text": [
      "100%|██████████| 2/2 [00:00<00:00, 17.05it/s]\n"
     ]
    },
    {
     "name": "stdout",
     "output_type": "stream",
     "text": [
      "data/20240213/uplift_data_export_20240214012305.csv\n"
     ]
    },
    {
     "name": "stderr",
     "output_type": "stream",
     "text": [
      "100%|██████████| 2/2 [00:00<00:00, 12.15it/s]\n"
     ]
    },
    {
     "name": "stdout",
     "output_type": "stream",
     "text": [
      "data/20240213/uplift_data_export_20240214012403.csv\n"
     ]
    },
    {
     "name": "stderr",
     "output_type": "stream",
     "text": [
      "100%|██████████| 1/1 [00:00<00:00, 14.91it/s]\n"
     ]
    }
   ],
   "source": [
    "wrong = {}\n",
    "for file in file_list:\n",
    "    print(file)\n",
    "    df = pd.read_csv(file)\n",
    "    sessions = df.sessionid.unique()\n",
    "    for session in tqdm(sessions):\n",
    "        d = df[df['sessionid'] == session].sort_values('frame').reset_index(drop=True)\n",
    "        side = d['handedness'][0]\n",
    "        trial = str(session.split('_')[-1]).zfill(3)\n",
    "        name = d['athlete_name'][0].replace(' ','')\n",
    "        weight, height, to_frame, kh_frame, fc_frame, bc_frame, ball_vel, launch_ang, ball_dis = players.loc[f\"{name}_{trial}\"]\n",
    "        \n",
    "        newcols = []\n",
    "        for col in df.columns:\n",
    "            if side == 'right':\n",
    "                split_col = col.split('_')\n",
    "                if split_col[0] == 'left':\n",
    "                    split_col[0] = 'lead'\n",
    "                    split_col = '_'.join(split_col)\n",
    "                elif split_col[0] == 'right':\n",
    "                    split_col[0] = 'rear'\n",
    "                    split_col = '_'.join(split_col)\n",
    "                elif 'trunk_lateral_flexion' in col:\n",
    "                    split_col = 'trunk_lateral_flexion'\n",
    "                else:\n",
    "                    split_col = col\n",
    "                \n",
    "                newcols.append(split_col)\n",
    "                \n",
    "            elif side == 'left':\n",
    "                split_col = col.split('_')\n",
    "                if split_col[0] == 'left':\n",
    "                    split_col[0] = 'rear'\n",
    "                    split_col = '_'.join(split_col)\n",
    "                elif split_col[0] == 'right':\n",
    "                    split_col[0] = 'lead'\n",
    "                    split_col = '_'.join(split_col)\n",
    "                elif 'trunk_lateral_flexion' in col:\n",
    "                    split_col = 'trunk_lateral_flexion'\n",
    "                else:\n",
    "                    split_col = col\n",
    "            \n",
    "                newcols.append(split_col)\n",
    "               \n",
    "        d.columns = newcols\n",
    "        d = d.sort_values('frame').reset_index(drop=True)\n",
    "\n",
    "        change_axis_col = []\n",
    "        if side == 'left':\n",
    "            for col in d.columns:\n",
    "                if '3d' in col:\n",
    "                    split_col = col.split('_')\n",
    "                    if split_col[-1] == 'x':\n",
    "                        split_col[-1] = 'z'\n",
    "                    elif split_col[-1] == 'z':\n",
    "                        split_col[-1] = 'x'\n",
    "                    split_col = '_'.join(split_col)\n",
    "                    change_axis_col.append(split_col)\n",
    "                    \n",
    "                else:\n",
    "                    change_axis_col.append(col)\n",
    "                    \n",
    "            d.columns = change_axis_col\n",
    "        # Sway (정강이 각도)\n",
    "        y_axis = d['rear_knee_jc_3d_y'] - d['rear_ankle_jc_3d_y']\n",
    "        z_axis = d['rear_knee_jc_3d_z'] - d['rear_ankle_jc_3d_z']\n",
    "        shank_angle = np.arctan2(y_axis, z_axis)\n",
    "        shank_angle = - (np.rad2deg(shank_angle) - 90)\n",
    "        d['shank_angle'] = shank_angle\n",
    "        \n",
    "        # Loss of Space (골반 팔꿈치 거리)\n",
    "        x1 = d['rear_hip_jc_3d_x']; y1 = d['rear_hip_jc_3d_z']\n",
    "        x2 = d['lead_hip_jc_3d_x']; y2 = d['lead_hip_jc_3d_z']\n",
    "        x3 = d['rear_elbow_jc_3d_x']; y3 = d['rear_elbow_jc_3d_z']\n",
    "\n",
    "        area = abs((x1-x3) * (y2-y3) - (y1-y3) * (x2 - x3))\n",
    "        AB = ( ((x1-x2)**2 + (y1-y2)**2) ** 0.5 )\n",
    "        loss_space = area / AB\n",
    "        d['hip_elbow_loss_space'] = loss_space\n",
    "        \n",
    "        # Loss of Space (어깨 리드 손의 거리)\n",
    "    \n",
    "        x2 = d['lead_shoulder_jc_3d_x']; y2 = d['lead_shoulder_jc_3d_y']; z2 = d['lead_shoulder_jc_3d_z']\n",
    "        x3 = d['lead_wrist_jc_3d_x']; y3 = d['lead_wrist_jc_3d_y']; z3 = d['lead_wrist_jc_3d_z']\n",
    "        \n",
    "        D = np.sqrt((x2 - x3)**2 + (y2 - y3)**2 + (z2 - z3)**2)\n",
    "        d['shoulder_hand_loss_space'] = D\n",
    "        \n",
    "        # Dead Hands (리드 암의 어깨와 손과의 수평 거리 (플레이트 방향)\n",
    "        hand_shoulder_dis = d['lead_shoulder_jc_3d_z'] - d['lead_wrist_jc_3d_z']\n",
    "        d['hand_shoulder_distance'] = hand_shoulder_dis\n",
    "    \n",
    "        if side == 'left':\n",
    "            change_plus_minus = ['pelvis_rotational_velocity_with_respect_to_ground',\n",
    "                                'trunk_rotational_velocity_with_respect_to_ground',\n",
    "                                'lead_arm_rotational_velocity_with_respect_to_ground',\n",
    "                                'trunk_lateral_flexion',\n",
    "                                'trunk_twist_clockwise','shank_angle']\n",
    "            d[change_plus_minus] = - d[change_plus_minus]\n",
    "        # 골반 처음 움직이는 시점\n",
    "        plot = False\n",
    "        \n",
    "        pel_rot_initial = [i for i in detect_onset(d['pelvis_rotational_velocity_with_respect_to_ground'], threshold=100, n_above=50, n_below =100, show=plot)[:,0] if kh_frame < i < bc_frame]\n",
    "        if len(pel_rot_initial) == 1:\n",
    "            pel_rot_initial = pel_rot_initial[0]\n",
    "        else:\n",
    "            wrong[file] = d\n",
    "            \n",
    "        # usecols = [\n",
    "        # 'pelvis_rotational_velocity_with_respect_to_ground',\n",
    "        # 'trunk_rotational_velocity_with_respect_to_ground', \n",
    "        # 'lead_arm_rotational_velocity_with_respect_to_ground',\n",
    "        # 'lead_shoulder_external_rotation_velocity',\n",
    "        # 'trunk_twist_clockwise','trunk_lateral_flexion',\n",
    "        # 'lead_shoulder_external_rotation','lead_elbow_flexion',\n",
    "        # 'rear_shoulder_adduction','lead_knee_extension',\n",
    "        # 'lead_knee_extension_velocity','lead_hip_flexion_with_respect_to_trunk']\n",
    "\n",
    "        # df = df[usecols]\n",
    "        # df = df.iloc[to_frame:bc_frame + 60]\n",
    "        t = np.arange(0,len(d)/240, 1/240)\n",
    "        if len(t) == len(d):\n",
    "            pass\n",
    "        elif len(t) > len(d):\n",
    "            t = t[:len(d)]\n",
    "            \n",
    "        \n",
    "        \n",
    "        if side == 'right':\n",
    "            change_plus_minus = ['shank_angle']\n",
    "            d[change_plus_minus] = - d[change_plus_minus]\n",
    "            \n",
    "        d['rear_shoulder_adduction'] = - d['rear_shoulder_adduction']\n",
    "        d['lead_elbow_flexion_velocity'] = - d['lead_elbow_flexion_velocity']\n",
    "        \n",
    "        stride = np.sqrt(((d['lead_heel_3d_x'] - d['rear_heel_3d_x']) ** 2 + (d['lead_heel_3d_z'] - d['rear_heel_3d_z']) ** 2))\n",
    "        stride_length = 100 * (stride.max() / (height / 100))\n",
    "        \n",
    "        d['to_frame'] = to_frame\n",
    "        d['kh_frame'] = kh_frame\n",
    "        d['fc_frame'] = fc_frame\n",
    "        d['bc_frame'] = bc_frame\n",
    "\n",
    "        d['pelvis_rotation_initial'] = pel_rot_initial\n",
    "        d['time'] = t\n",
    "        d['weight'] = weight\n",
    "        d['height'] = height\n",
    "        d['stride_length'] = stride_length\n",
    "        d['ball_velocity'] = ball_vel\n",
    "        d['launch_angle'] = launch_ang\n",
    "        d['ball_distance'] = ball_dis\n",
    "        d.to_csv(f\"data/{day}/process/{name}_{trial}.csv\",index=False)"
   ]
  },
  {
   "cell_type": "code",
   "execution_count": null,
   "metadata": {},
   "outputs": [],
   "source": []
  }
 ],
 "metadata": {
  "kernelspec": {
   "display_name": "ML",
   "language": "python",
   "name": "python3"
  },
  "language_info": {
   "codemirror_mode": {
    "name": "ipython",
    "version": 3
   },
   "file_extension": ".py",
   "mimetype": "text/x-python",
   "name": "python",
   "nbconvert_exporter": "python",
   "pygments_lexer": "ipython3",
   "version": "3.11.6"
  }
 },
 "nbformat": 4,
 "nbformat_minor": 2
}
