{
 "cells": [
  {
   "cell_type": "code",
   "execution_count": 14,
   "metadata": {},
   "outputs": [],
   "source": [
    "import numpy as np\n",
    "import matplotlib.pyplot as plt\n",
    "import pandas as pd\n",
    "from glob import glob\n",
    "from pylab import rcParams\n",
    "import os\n",
    "import warnings\n",
    "import scipy.signal as signal\n",
    "warnings.filterwarnings('ignore')\n",
    "from datetime import datetime\n",
    "rcParams['figure.figsize'] = 12,4\n",
    "rcParams['savefig.dpi'] = 300\n",
    "from detecta import detect_onset, detect_peaks\n",
    "\n",
    "logo_path = 'logo/'\n",
    "now = datetime.now().strftime('%Y%m%d')\n",
    "\n",
    "\n",
    "def lowpass_filter(data, sr, cut_off, order):\n",
    "    nyq = 0.5 * sr\n",
    "    b, a = signal.butter(order, cut_off/nyq, btype = 'low')\n",
    "    lp_df = signal.filtfilt(b, a, data)\n",
    "    return lp_df"
   ]
  },
  {
   "cell_type": "markdown",
   "metadata": {},
   "source": [
    "- 앞으로 기울기 : +\n",
    "- 투수 쪽으로 기울기 : +\n",
    "- 투수 쪽으로 돌리기 : +"
   ]
  },
  {
   "cell_type": "markdown",
   "metadata": {},
   "source": [
    "- 파일 저장 형태 : 이름_트라이얼_왼쪽오른쪽_몸무게_키_타구속도_타구거리_발사각"
   ]
  },
  {
   "cell_type": "code",
   "execution_count": 15,
   "metadata": {},
   "outputs": [],
   "source": [
    "day = '20240106'\n",
    "\n",
    "file_list = [i.replace('\\\\','/') for i in sorted(glob(f'players/{day}/**/**/raw/*csv'))]\n",
    "right_list = [i for i in file_list if 'right' in i]\n",
    "left_list = [i for i in file_list if 'left' in i]"
   ]
  },
  {
   "cell_type": "code",
   "execution_count": 16,
   "metadata": {},
   "outputs": [
    {
     "name": "stdout",
     "output_type": "stream",
     "text": [
      "players/20240106/left/Kwonhyukchan/raw/2024-01-06-15-04_Kwonhyukchan_20240106.csv : 11\n",
      "players/20240106/right/Jeonseongwoo/raw/2024-01-06-14-31_Jeonseongwoo_20240106.csv : 12\n"
     ]
    }
   ],
   "source": [
    "for file in file_list:\n",
    "    df = pd.read_csv(file,sep=',',skiprows=3)\n",
    "    cut = np.where(df.Activity == 'Pause')[0]\n",
    "    print(f\"{file} : {len(cut)}\")"
   ]
  },
  {
   "cell_type": "markdown",
   "metadata": {},
   "source": [
    "### 선수 정보 입력"
   ]
  },
  {
   "cell_type": "code",
   "execution_count": 4,
   "metadata": {},
   "outputs": [],
   "source": [
    "weights = {\n",
    "    'Jeonseongwoo': 82,\n",
    "    'Kwonhyukchan': 118,\n",
    "     }\n",
    "\n",
    "heights = {\n",
    "    'Jeonseongwoo': 177,\n",
    "    'Kwonhyukchan': 189,\n",
    "     }\n",
    "\n",
    "\n",
    "# 트라이얼에 맞게 순서대로 입력 필요\n",
    "ball_vels = {\n",
    "    'Leejinyong': [\n",
    "                   0, 0, 0, 0, 0,\n",
    "                   0, 0, 0, 0, 0,\n",
    "                   0\n",
    "                   ],\n",
    "    'Jeonseongwoo': [\n",
    "                   0, 0, 0, 0, 0,\n",
    "                   0, 0, 0, 0, 0,\n",
    "                   0\n",
    "                   ],\n",
    "    'Kimjieon': [\n",
    "                   0, 0, 0, 0, 0,\n",
    "                   0, 0, 0, 0, 0,\n",
    "                   0\n",
    "                   ],\n",
    "    'Kwonhyukchan': [\n",
    "                   0, 0, 0, 0, 0,\n",
    "                   0, 0, 0, 0, 0,\n",
    "                   ],\n",
    "     }    \n",
    "\n",
    "launch_angs = {\n",
    "    'Leejinyong': [\n",
    "                   0, 0, 0, 0, 0,\n",
    "                   0, 0, 0, 0, 0,\n",
    "                   0\n",
    "                   ],\n",
    "    'Jeonseongwoo': [\n",
    "                   0, 0, 0, 0, 0,\n",
    "                   0, 0, 0, 0, 0,\n",
    "                   0\n",
    "                   ],\n",
    "    'Kimjieon': [\n",
    "                   0, 0, 0, 0, 0,\n",
    "                   0, 0, 0, 0, 0,\n",
    "                   0\n",
    "                   ],\n",
    "    'Kwonhyukchan': [\n",
    "                   0, 0, 0, 0, 0,\n",
    "                   0, 0, 0, 0, 0,\n",
    "                   ],\n",
    "     }    \n",
    "\n",
    "ball_dis = {\n",
    "    'Leejinyong': [\n",
    "                   0, 0, 0, 0, 0,\n",
    "                   0, 0, 0, 0, 0,\n",
    "                   0\n",
    "                   ],\n",
    "    'Jeonseongwoo': [\n",
    "                   0, 0, 0, 0, 0,\n",
    "                   0, 0, 0, 0, 0,\n",
    "                   0\n",
    "                   ],\n",
    "    'Kimjieon': [\n",
    "                   0, 0, 0, 0, 0,\n",
    "                   0, 0, 0, 0, 0,\n",
    "                   0\n",
    "                   ],\n",
    "    'Kwonhyukchan': [\n",
    "                   0, 0, 0, 0, 0,\n",
    "                   0, 0, 0, 0, 0,\n",
    "                   ],\n",
    "     }    "
   ]
  },
  {
   "cell_type": "code",
   "execution_count": 6,
   "metadata": {},
   "outputs": [],
   "source": [
    "sr = 1000\n",
    "\n",
    "new_cols = [\n",
    "            'lead_force_x','lead_force_y','lead_force_z',\n",
    "            'rear_force_x','rear_force_y','rear_force_z',\n",
    "            'lead_moment_z','rear_moment_z',\n",
    "            'pelvic_angular_velo','torso_angular_velo','upperarm_angular_velo','forearm_angular_velo',\n",
    "            'pelvic_forward_tilt','pelvic_lateral_tilt','pelvic_rotation',\n",
    "            'torso_forward_tilt','torso_lateral_tilt','torso_rotation',\n",
    "            'x_factor',\n",
    "            'shoulder_rotation','shoulder_horizontal_adduction','elbow_flexion',\n",
    "            # 'acc_result'\n",
    "            ]\n",
    "\n",
    "new_ang_cols = ['pelvic_forward_tilt','pelvic_lateral_tilt','pelvic_rotation',\n",
    "            'torso_forward_tilt','torso_lateral_tilt','torso_rotation',\n",
    "            'x_factor',\n",
    "            'shoulder_rotation','shoulder_horizontal_abduction','elbow_flexion']\n",
    "\n",
    "new_ks_cols = {'pelvic_angular_velo' : ['Pelvic', 'r'],\n",
    "               'torso_angular_velo' : ['Torso', 'g'],\n",
    "               'upperarm_angular_velo' : ['Upper Arm','b'],\n",
    "               'forearm_angular_velo' : ['Forearm','y']}\n",
    "\n",
    "force_cols = ['LT Force plate Fx (N)','LT Force plate Fy (N)','LT Force plate Fz (N)',\n",
    "              'RT Force plate Fx (N)','RT Force plate Fy (N)','RT Force plate Fz (N)']\n",
    "\n",
    "moment_cols = ['LT Force plate Mz (N*m)','RT Force plate Mz (N*m)']"
   ]
  },
  {
   "cell_type": "code",
   "execution_count": 7,
   "metadata": {},
   "outputs": [],
   "source": [
    "data = {\n",
    "    'right' : {},\n",
    "    'left' : {}\n",
    "    }\n",
    "\n",
    "for file in file_list:\n",
    "    df = pd.read_csv(file,sep=',',skiprows=3)\n",
    "    name = file.split('/')[3]\n",
    "    weight = weights[name]\n",
    "    height = heights[name]\n",
    "    \n",
    "    if file in right_list:\n",
    "        acc_cols = ['LT Forearm Accel Sensor X (mG)','LT Forearm Accel Sensor Y (mG)','LT Forearm Accel Sensor Z (mG)']\n",
    "        ks_cols = [\n",
    "            'Noraxon MyoMotion-Segments-Pelvis-Gyroscope-z (deg/s)',\n",
    "            'Noraxon MyoMotion-Segments-Upper spine-Gyroscope-z (deg/s)',\n",
    "            'Noraxon MyoMotion-Segments-Upper arm LT-Gyroscope-z (deg/s)',\n",
    "            'Noraxon MyoMotion-Segments-Forearm LT-Gyroscope-z (deg/s)'\n",
    "                ]\n",
    "        ang_cols = [\n",
    "            'Noraxon MyoMotion-Segments-Pelvis-Tilt Fwd (deg)','Noraxon MyoMotion-Segments-Pelvis-RT Tilt Lat (deg)','Noraxon MyoMotion-Segments-Pelvis-LT Rotation (deg)',\n",
    "            'Noraxon MyoMotion-Segments-Lower spine-Tilt Fwd (deg)','Noraxon MyoMotion-Segments-Lower spine-RT Tilt Lat (deg)','Noraxon MyoMotion-Segments-Lower spine-LT Rotation (deg)',\n",
    "            'LT Torso-Pelvic Axial (deg)',\n",
    "            'LT Shoulder Rotation Ext (deg)','Noraxon MyoMotion-Joints-Shoulder LT-Adduction Hrz (deg)',\n",
    "            'LT Elbow Flexion (deg)'\n",
    "        ]\n",
    "\n",
    "        all_cols = [\n",
    "            *force_cols,*moment_cols,*ks_cols,*ang_cols\n",
    "            # ,*acc_cols        \n",
    "                    ]\n",
    "        \n",
    "        \n",
    "        cut = np.where(df.Activity == 'Pause')[0]\n",
    "        for i in range(len(cut)-1):\n",
    "            d = df.iloc[cut[i]:cut[i+1]].reset_index(drop=True)\n",
    "            d = d[all_cols]\n",
    "            \n",
    "            # for col in acc_cols:\n",
    "            #     d[col] = lowpass_filter(d[col], 1000, 13.4, 4)\n",
    "            for col in force_cols:\n",
    "                d[col] = lowpass_filter(d[col], 1000, 40, 4)\n",
    "            for col in moment_cols:\n",
    "                d[col] = lowpass_filter(d[col], 1000, 40, 4)\n",
    "            for col in ks_cols:\n",
    "                d[col] = lowpass_filter(d[col], 1000, 13.4, 4)\n",
    "                               \n",
    "            # d['acc_result'] = np.sqrt(d[acc_cols[0]]**2 + d[acc_cols[1]]**2 + d[acc_cols[2]]**2)\n",
    "            # del d[acc_cols[0]]; del d[acc_cols[1]]; del d[acc_cols[2]]\n",
    "            d[force_cols] = 100 * (d[force_cols] / 9.81) / weight\n",
    "            \n",
    "            d.columns = new_cols\n",
    "            d['rear_force_y'] = - d['rear_force_y']\n",
    "            d['weight'] = weight\n",
    "            d['height'] = height\n",
    "            d['ball_vel'] = ball_vels[name][i]\n",
    "            d['launch_ang'] = launch_angs[name][i]\n",
    "            d['ball_dis'] = ball_dis[name][i]\n",
    "            # d.to_csv(f'players/right/{name}/process/{name}_{str(i+1).zfill(3)}.csv',index=False)\n",
    "            data['right'][f\"{name}_{str(i+1).zfill(3)}_R_{weight}_{height}_{ball_vels[name][i]}_{ball_dis[name][i]}_{launch_angs[name][i]}\"] = d\n",
    "        \n",
    "    elif file in left_list:\n",
    "        acc_cols = ['RT Forearm Accel Sensor X (mG)','RT Forearm Accel Sensor Y (mG)','RT Forearm Accel Sensor Z (mG)']\n",
    "        ks_cols = [\n",
    "            'Noraxon MyoMotion-Segments-Pelvis-Gyroscope-z (deg/s)',\n",
    "            'Noraxon MyoMotion-Segments-Upper spine-Gyroscope-z (deg/s)',\n",
    "            'Noraxon MyoMotion-Segments-Upper arm RT-Gyroscope-z (deg/s)',\n",
    "            'Noraxon MyoMotion-Segments-Forearm RT-Gyroscope-z (deg/s)'\n",
    "                ]\n",
    "\n",
    "        ang_cols = [\n",
    "            'Noraxon MyoMotion-Segments-Pelvis-Tilt Fwd (deg)','Noraxon MyoMotion-Segments-Pelvis-LT Tilt Lat (deg)','Noraxon MyoMotion-Segments-Pelvis-RT Rotation (deg)',\n",
    "            'Noraxon MyoMotion-Segments-Lower spine-Tilt Fwd (deg)','Noraxon MyoMotion-Segments-Lower spine-LT Tilt Lat (deg)','Noraxon MyoMotion-Segments-Lower spine-RT Rotation (deg)',\n",
    "            'RT Torso-Pelvic Axial (deg)',\n",
    "            'RT Shoulder Rotation Ext (deg)','Noraxon MyoMotion-Joints-Shoulder RT-Adduction Hrz (deg)',\n",
    "            'RT Elbow Flexion (deg)'\n",
    "        ]\n",
    "        all_cols = [*force_cols,*moment_cols,*ks_cols,*ang_cols\n",
    "                    # ,*acc_cols\n",
    "                    ]\n",
    "        \n",
    "        cut = np.where(df.Activity == 'Pause')[0]\n",
    "        for i in range(len(cut)-1):\n",
    "            d = df.iloc[cut[i]:cut[i+1]].reset_index(drop=True)\n",
    "            d = d[all_cols]\n",
    "\n",
    "            # for col in acc_cols:\n",
    "            #     d[col] = lowpass_filter(d[col], 1000, 13.4, 4)\n",
    "            for col in force_cols:\n",
    "                d[col] = lowpass_filter(d[col], 1000, 40, 4)\n",
    "            for col in moment_cols:\n",
    "                d[col] = lowpass_filter(d[col], 1000, 40, 4)\n",
    "            for col in ks_cols:\n",
    "                d[col] = lowpass_filter(d[col], 1000, 13.4, 4)\n",
    "            \n",
    "            # d['acc_result'] = np.sqrt(d[acc_cols[0]]**2 + d[acc_cols[1]]**2 + d[acc_cols[2]]**2)\n",
    "            # del d[acc_cols[0]]; del d[acc_cols[1]]; del d[acc_cols[2]]\n",
    "            \n",
    "            d[ks_cols] = - d[ks_cols]\n",
    "            d[force_cols] = 100 * (d[force_cols] / 9.81) / weight\n",
    "            d.columns = new_cols\n",
    "            d['weight'] = weight\n",
    "            d['height'] = height\n",
    "            d['ball_vel'] = ball_vels[name][i]\n",
    "            d['launch_ang'] = launch_angs[name][i]\n",
    "            d['ball_dis'] = ball_dis[name][i]\n",
    "            \n",
    "            d[['lead_moment_z','rear_moment_z']] = - d[['lead_moment_z','rear_moment_z']]\n",
    "            \n",
    "            # d.to_csv(f'players/left/{name}/process/{name}_{str(i+1).zfill(3)}.csv', index=False)\n",
    "            data['left'][f\"{name}_{str(i+1).zfill(3)}_L_{weight}_{height}_{ball_vels[name][i]}_{ball_dis[name][i]}_{launch_angs[name][i]}\"] = d"
   ]
  },
  {
   "cell_type": "code",
   "execution_count": 8,
   "metadata": {},
   "outputs": [
    {
     "name": "stdout",
     "output_type": "stream",
     "text": [
      "Jeonseongwoo_007_R_82_177_0_0_0 에서 시점 오류 발생\n",
      "Jeonseongwoo_008_R_82_177_0_0_0 에서 시점 오류 발생\n",
      "Jeonseongwoo_011_R_82_177_0_0_0 에서 시점 오류 발생\n",
      "Kwonhyukchan_007_L_118_189_0_0_0 에서 시점 오류 발생\n",
      "Kwonhyukchan_008_L_118_189_0_0_0 에서 시점 오류 발생\n"
     ]
    }
   ],
   "source": [
    "da = {}\n",
    "wrong = {}\n",
    "plot = False\n",
    "for side in ['right','left']:\n",
    "    for trial in data[side]:\n",
    "        r = data[side][trial]\n",
    "        # print(trial)\n",
    "        try:\n",
    "            toe_off_time = detect_onset(r['lead_force_z'],threshold=1,n_above= sr * 0.1,n_below=sr*0.1, show=plot)[-2][-1]\n",
    "            df = r.iloc[toe_off_time-500:].reset_index(drop=True)\n",
    "            \n",
    "            lead_leg_result_grf = np.sqrt(df['lead_force_y']**2 + df['lead_force_z']**2)\n",
    "            fc_10_time = detect_onset(df['lead_force_z'],threshold=10,n_above= sr * 0.2,n_below=sr*0.5, show=plot)[-1][0]\n",
    "            lead_max_grf = detect_peaks(lead_leg_result_grf,mph=100,mpd=sr*1,show=plot)\n",
    "            peak_hand_time, bc_time = detect_peaks(df['forearm_angular_velo'],mph=500,mpd=sr*0.02,show=plot)\n",
    "            lead_max_grf = [i for i in lead_max_grf if fc_10_time < i < bc_time][0]\n",
    "            \n",
    "            fc_100_time = [i for i in detect_onset(df['lead_force_z'],threshold=100,n_above= sr * 0.1,n_below=sr*0.5, show=plot)[:,0] if fc_10_time < i < lead_max_grf][0]\n",
    "            lead_max_grf_y = detect_peaks(df['lead_force_y'], mph=40, mpd = sr*0.02, show=plot)[0]\n",
    "            # print(fc_10_time, lead_max_grf, peak_hand_time, bc_time, lead_max_grf_y)\n",
    "            if fc_10_time > lead_max_grf:\n",
    "                print('fc_time 시점이 lead_max_grf 보다 뒤에 나타남')\n",
    "                wrong[trial]= r\n",
    "            if lead_max_grf > bc_time:\n",
    "                print('lead_max_grf 시점이 bc_time 보다 뒤에 나타남')\n",
    "                wrong[trial]= r\n",
    "                \n",
    "            df = df.iloc[:bc_time+500]\n",
    "            t = np.arange(0,len(df)/sr,1/sr)\n",
    "            df['time'] = t\n",
    "            df['to_time'] = 500\n",
    "            df['fc_10_time'] = fc_10_time\n",
    "            df['fc_100_time'] = fc_100_time\n",
    "            df['lead_max_grf_time'] = lead_max_grf\n",
    "            df['bc_time'] = bc_time\n",
    "            df['peak_hand_time'] = peak_hand_time\n",
    "            df['peak_lead_grf_y'] = lead_max_grf_y\n",
    "            plus = df['shoulder_rotation'][0]\n",
    "            df['shoulder_rotation'] = np.cumsum(df['upperarm_angular_velo']) * (1/1000) + plus\n",
    "            df['shoulder_horizontal_adduction'] = lowpass_filter(df['shoulder_horizontal_adduction'], 1000, 13.4, 4)\n",
    "            \n",
    "            da[trial] = df\n",
    "            df.to_csv(f\"players/{day}/{side}/{trial.split('_')[0]}/process/{trial}.csv\", index=False)\n",
    "        \n",
    "        except Exception:\n",
    "            print(f\"{trial} 에서 시점 오류 발생\")\n",
    "            wrong[trial] = r"
   ]
  },
  {
   "cell_type": "code",
   "execution_count": 9,
   "metadata": {},
   "outputs": [],
   "source": [
    "plot = False\n",
    "wrong1= {}\n",
    "for trial in wrong:\n",
    "    r = wrong[trial]\n",
    "    n, tri, s, _, _, _, _, _ = trial.split('_')\n",
    "    if s == 'L':\n",
    "        side = 'left'\n",
    "    elif s == 'R':\n",
    "        side = 'right'\n",
    "        \n",
    "    try:\n",
    "        # print(trial)\n",
    "        toe_off_time = detect_onset(r['lead_force_z'],threshold=1,n_above= sr * 0.1,n_below=sr*0.1, show=plot)[-3][-1]\n",
    "        df = r.iloc[toe_off_time-500:].reset_index(drop=True)\n",
    "        \n",
    "        lead_leg_result_grf = np.sqrt(df['lead_force_y']**2 + df['lead_force_z']**2)\n",
    "        fc_10_time = detect_onset(df['lead_force_z'],threshold=10,n_above= sr * 0.2,n_below=sr*0.6, show=plot)[-1][0]\n",
    "        lead_max_grf = detect_peaks(lead_leg_result_grf,mph=100,mpd=sr*1,show=plot)\n",
    "        \n",
    "        peak_hand_time, bc_time = detect_peaks(df['forearm_angular_velo'],mph=500,mpd=sr*0.02,show=plot)\n",
    "        lead_max_grf = [i for i in lead_max_grf if fc_10_time < i < bc_time][0]\n",
    "        fc_100_time = [i for i in detect_onset(df['lead_force_z'],threshold=100,n_above= sr * 0.1,n_below=sr*0.5, show=plot)[:,0] if fc_10_time < i < lead_max_grf][0]\n",
    "        lead_max_grf_y = detect_peaks(df['lead_force_y'], mph=40, mpd = sr*0.02, show=plot)[0]\n",
    "        # print(fc_10_time, lead_max_grf, peak_hand_time, bc_time, lead_max_grf_y)\n",
    "        if fc_10_time > lead_max_grf:\n",
    "            print('fc_time 시점이 lead_max_grf 보다 뒤에 나타남')\n",
    "            wrong[trial]= r\n",
    "        if lead_max_grf > bc_time:\n",
    "            print('lead_max_grf 시점이 bc_time 보다 뒤에 나타남')\n",
    "            wrong[trial]= r\n",
    "            \n",
    "        df = df.iloc[:bc_time+500]\n",
    "        t = np.arange(0,len(df)/sr,1/sr)\n",
    "        df['time'] = t\n",
    "        df['to_time'] = 500\n",
    "        df['fc_10_time'] = fc_10_time\n",
    "        df['fc_100_time'] = fc_100_time\n",
    "        df['lead_max_grf_time'] = lead_max_grf\n",
    "        df['bc_time'] = bc_time\n",
    "        df['peak_hand_time'] = peak_hand_time\n",
    "        df['peak_lead_grf_y'] = lead_max_grf_y\n",
    "        plus = df['shoulder_rotation'][0]\n",
    "        df['shoulder_rotation'] = np.cumsum(df['upperarm_angular_velo']) * (1/1000) + plus\n",
    "        df['shoulder_horizontal_adduction'] = lowpass_filter(df['shoulder_horizontal_adduction'], 1000, 13.4, 4)\n",
    "        \n",
    "        da[trial] = df\n",
    "        df.to_csv(f\"players/{day}/{side}/{trial.split('_')[0]}/process/{trial}.csv\", index=False)\n",
    "    except Exception:\n",
    "        print(f\"{trial} 에서 시점 오류 발생\")\n",
    "        wrong1[trial] = r"
   ]
  },
  {
   "cell_type": "code",
   "execution_count": 10,
   "metadata": {},
   "outputs": [],
   "source": [
    "plot = False\n",
    "wrong2= {}\n",
    "for trial in wrong1:\n",
    "    r = wrong1[trial]\n",
    "    n, tri, s, _, _, _, _, _ = trial.split('_')\n",
    "    if s == 'L':\n",
    "        side = 'left'\n",
    "    elif s == 'R':\n",
    "        side = 'right'\n",
    "        \n",
    "    try:\n",
    "        # print(trial)\n",
    "        toe_off_time = detect_onset(r['lead_force_z'],threshold=1,n_above= sr * 0.1,n_below=sr*0.1, show=plot)[-4][-1]\n",
    "        df = r.iloc[toe_off_time-500:].reset_index(drop=True)\n",
    "        \n",
    "        lead_leg_result_grf = np.sqrt(df['lead_force_y']**2 + df['lead_force_z']**2)\n",
    "        fc_10_time = detect_onset(df['lead_force_z'],threshold=10,n_above= sr * 0.2,n_below=sr*0.6, show=plot)[-1][0]\n",
    "        lead_max_grf = detect_peaks(lead_leg_result_grf,mph=100,mpd=sr*1,show=plot)\n",
    "        \n",
    "        peak_hand_time, bc_time = detect_peaks(df['forearm_angular_velo'],mph=500,mpd=sr*0.02,show=plot)\n",
    "        lead_max_grf = [i for i in lead_max_grf if fc_10_time < i < bc_time][0]\n",
    "        \n",
    "        fc_100_time = [i for i in detect_onset(df['lead_force_z'],threshold=100,n_above= sr * 0.1,n_below=sr*0.5, show=plot)[:,0] if fc_10_time < i < lead_max_grf][0]\n",
    "        lead_max_grf_y = detect_peaks(df['lead_force_y'], mph=40, mpd = sr*0.02, show=plot)[0]\n",
    "        # print(fc_10_time, lead_max_grf, peak_hand_time, bc_time, lead_max_grf_y)\n",
    "        if fc_10_time > lead_max_grf:\n",
    "            print('fc_time 시점이 lead_max_grf 보다 뒤에 나타남')\n",
    "            wrong[trial]= r\n",
    "        if lead_max_grf > bc_time:\n",
    "            print('lead_max_grf 시점이 bc_time 보다 뒤에 나타남')\n",
    "            wrong[trial]= r\n",
    "            \n",
    "        df = df.iloc[:bc_time+500]\n",
    "        t = np.arange(0,len(df)/sr,1/sr)\n",
    "        df['time'] = t\n",
    "        df['to_time'] = 500\n",
    "        df['fc_10_time'] = fc_10_time\n",
    "        df['fc_100_time'] = fc_100_time\n",
    "        df['lead_max_grf_time'] = lead_max_grf\n",
    "        df['bc_time'] = bc_time\n",
    "        df['peak_hand_time'] = peak_hand_time\n",
    "        df['peak_lead_grf_y'] = lead_max_grf_y\n",
    "        plus = df['shoulder_rotation'][0]\n",
    "        df['shoulder_rotation'] = np.cumsum(df['upperarm_angular_velo']) * (1/1000) + plus\n",
    "        df['shoulder_horizontal_adduction'] = lowpass_filter(df['shoulder_horizontal_adduction'], 1000, 13.4, 4)\n",
    "        \n",
    "        da[trial] = df\n",
    "        df.to_csv(f\"players/{day}/{side}/{trial.split('_')[0]}/process/{trial}.csv\", index=False)\n",
    "    except Exception:\n",
    "        print(f\"{trial} 에서 시점 오류 발생\")\n",
    "        wrong2[trial] = r"
   ]
  },
  {
   "cell_type": "code",
   "execution_count": 11,
   "metadata": {},
   "outputs": [
    {
     "data": {
      "text/plain": [
       "dict_keys([])"
      ]
     },
     "execution_count": 11,
     "metadata": {},
     "output_type": "execute_result"
    }
   ],
   "source": [
    "wrong2.keys()"
   ]
  },
  {
   "cell_type": "code",
   "execution_count": 12,
   "metadata": {},
   "outputs": [
    {
     "ename": "KeyError",
     "evalue": "'Kimjieon_011_L_81_173_0_0_0'",
     "output_type": "error",
     "traceback": [
      "\u001b[1;31m---------------------------------------------------------------------------\u001b[0m",
      "\u001b[1;31mKeyError\u001b[0m                                  Traceback (most recent call last)",
      "Cell \u001b[1;32mIn[12], line 4\u001b[0m\n\u001b[0;32m      2\u001b[0m trial \u001b[38;5;241m=\u001b[39m \u001b[38;5;124m'\u001b[39m\u001b[38;5;124mKimjieon_011_L_81_173_0_0_0\u001b[39m\u001b[38;5;124m'\u001b[39m\n\u001b[0;32m      3\u001b[0m n, tri, s, _, _, _, _, _ \u001b[38;5;241m=\u001b[39m trial\u001b[38;5;241m.\u001b[39msplit(\u001b[38;5;124m'\u001b[39m\u001b[38;5;124m_\u001b[39m\u001b[38;5;124m'\u001b[39m)\n\u001b[1;32m----> 4\u001b[0m r \u001b[38;5;241m=\u001b[39m wrong2[trial]\n\u001b[0;32m      5\u001b[0m toe_off_time \u001b[38;5;241m=\u001b[39m detect_onset(r[\u001b[38;5;124m'\u001b[39m\u001b[38;5;124mlead_force_z\u001b[39m\u001b[38;5;124m'\u001b[39m],threshold\u001b[38;5;241m=\u001b[39m\u001b[38;5;241m1\u001b[39m,n_above\u001b[38;5;241m=\u001b[39m sr \u001b[38;5;241m*\u001b[39m \u001b[38;5;241m0.1\u001b[39m,n_below\u001b[38;5;241m=\u001b[39msr\u001b[38;5;241m*\u001b[39m\u001b[38;5;241m0.1\u001b[39m, show\u001b[38;5;241m=\u001b[39mplot)[\u001b[38;5;241m-\u001b[39m\u001b[38;5;241m3\u001b[39m][\u001b[38;5;241m-\u001b[39m\u001b[38;5;241m1\u001b[39m]\n\u001b[0;32m      6\u001b[0m df \u001b[38;5;241m=\u001b[39m r\u001b[38;5;241m.\u001b[39miloc[toe_off_time\u001b[38;5;241m-\u001b[39m\u001b[38;5;241m500\u001b[39m:]\u001b[38;5;241m.\u001b[39mreset_index(drop\u001b[38;5;241m=\u001b[39m\u001b[38;5;28;01mTrue\u001b[39;00m)\n",
      "\u001b[1;31mKeyError\u001b[0m: 'Kimjieon_011_L_81_173_0_0_0'"
     ]
    }
   ],
   "source": [
    "plot = True\n",
    "trial = 'Kimjieon_011_L_81_173_0_0_0'\n",
    "n, tri, s, _, _, _, _, _ = trial.split('_')\n",
    "r = wrong2[trial]\n",
    "toe_off_time = detect_onset(r['lead_force_z'],threshold=1,n_above= sr * 0.1,n_below=sr*0.1, show=plot)[-3][-1]\n",
    "df = r.iloc[toe_off_time-500:].reset_index(drop=True)\n",
    "lead_leg_result_grf = np.sqrt(df['lead_force_y']**2 + df['lead_force_z']**2)\n",
    "fc_10_time = detect_onset(df['lead_force_z'],threshold=10,n_above= sr * 0.2,n_below=sr*0.6, show=plot)[-1][0]\n",
    "lead_max_grf = detect_peaks(lead_leg_result_grf,mph=60,mpd=sr*1,show=plot)\n",
    "\n",
    "peak_hand_time = detect_peaks(df['forearm_angular_velo'],mph=400,mpd=0,show=plot)[0]\n",
    "bc_time = peak_hand_time\n",
    "lead_max_grf = [i for i in lead_max_grf if fc_10_time < i < bc_time][0]\n",
    "fc_100_time = [i for i in detect_onset(df['lead_force_z'],threshold=100,n_above= sr * 0.1,n_below=sr*0.5, show=plot)[:,0] if fc_10_time < i < lead_max_grf]\n",
    "lead_max_grf_y = detect_peaks(df['lead_force_y'], mph=40, mpd = sr*0.02, show=plot)[0]\n",
    "df = df.iloc[:bc_time+500]\n",
    "t = np.arange(0,len(df)/sr,1/sr)\n",
    "df['time'] = t\n",
    "df['to_time'] = 500\n",
    "df['fc_10_time'] = fc_10_time\n",
    "df['fc_100_time'] = fc_100_time[0]\n",
    "df['lead_max_grf_time'] = lead_max_grf\n",
    "df['bc_time'] = bc_time\n",
    "df['peak_hand_time'] = peak_hand_time\n",
    "df['peak_lead_grf_y'] = lead_max_grf_y\n",
    "plus = df['shoulder_rotation'][0]\n",
    "df['shoulder_rotation'] = np.cumsum(df['upperarm_angular_velo']) * (1/1000) + plus\n",
    "df['shoulder_horizontal_adduction'] = lowpass_filter(df['shoulder_horizontal_adduction'], 1000, 13.4, 4)\n",
    "da[trial] = df\n",
    "df.to_csv(f\"players/{day}/{side}/{trial.split('_')[0]}/process/{trial}.csv\", index=False)\n",
    "print(fc_10_time, lead_max_grf, peak_hand_time, bc_time, lead_max_grf_y)"
   ]
  },
  {
   "cell_type": "code",
   "execution_count": 13,
   "metadata": {},
   "outputs": [
    {
     "ename": "KeyError",
     "evalue": "'Kimjieon_001_L_81_173_0_0_0'",
     "output_type": "error",
     "traceback": [
      "\u001b[1;31m---------------------------------------------------------------------------\u001b[0m",
      "\u001b[1;31mKeyError\u001b[0m                                  Traceback (most recent call last)",
      "Cell \u001b[1;32mIn[13], line 2\u001b[0m\n\u001b[0;32m      1\u001b[0m df \u001b[38;5;241m=\u001b[39m da[\u001b[38;5;124m'\u001b[39m\u001b[38;5;124mJeonseongwoo_006_R_82_177_0_0_0\u001b[39m\u001b[38;5;124m'\u001b[39m]\n\u001b[1;32m----> 2\u001b[0m df1 \u001b[38;5;241m=\u001b[39m da[\u001b[38;5;124m'\u001b[39m\u001b[38;5;124mKimjieon_001_L_81_173_0_0_0\u001b[39m\u001b[38;5;124m'\u001b[39m]\n",
      "\u001b[1;31mKeyError\u001b[0m: 'Kimjieon_001_L_81_173_0_0_0'"
     ]
    }
   ],
   "source": [
    "df = da['Jeonseongwoo_006_R_82_177_0_0_0']\n",
    "df1 = da['Kimjieon_001_L_81_173_0_0_0']"
   ]
  },
  {
   "cell_type": "code",
   "execution_count": 13,
   "metadata": {},
   "outputs": [
    {
     "data": {
      "text/plain": [
       "<matplotlib.lines.Line2D at 0x2ad34abd0>"
      ]
     },
     "execution_count": 13,
     "metadata": {},
     "output_type": "execute_result"
    },
    {
     "data": {
      "image/png": "[encoded data removed]",
      "text/plain": [
       "<Figure size 1200x400 with 1 Axes>"
      ]
     },
     "metadata": {},
     "output_type": "display_data"
    }
   ],
   "source": [
    "plt.plot(df['rear_force_x'])\n",
    "plt.plot(df['lead_force_y'])\n",
    "plt.axvline(df['fc_10_time'][0])\n",
    "plt.axvline(df['to_time'][0])"
   ]
  },
  {
   "cell_type": "code",
   "execution_count": 14,
   "metadata": {},
   "outputs": [
    {
     "data": {
      "text/plain": [
       "<matplotlib.lines.Line2D at 0x28b6509d0>"
      ]
     },
     "execution_count": 14,
     "metadata": {},
     "output_type": "execute_result"
    },
    {
     "data": {
      "image/png": "[encoded data removed]",
      "text/plain": [
       "<Figure size 1200x400 with 1 Axes>"
      ]
     },
     "metadata": {},
     "output_type": "display_data"
    }
   ],
   "source": [
    "plt.plot(df1['rear_force_x'])\n",
    "plt.plot(df1['lead_force_y'])\n",
    "plt.axvline(df1['fc_10_time'][0])\n",
    "plt.axvline(df1['to_time'][0])"
   ]
  },
  {
   "cell_type": "code",
   "execution_count": null,
   "metadata": {},
   "outputs": [],
   "source": []
  },
  {
   "cell_type": "code",
   "execution_count": 13,
   "metadata": {},
   "outputs": [],
   "source": [
    "# for trial in da:\n",
    "#     df = da[trial]\n",
    "#     plt.plot(df['shoulder_rotation'])\n",
    "#     plt.plot(df['shoulder_rotation_1'])\n",
    "#     plt.title(trial)\n",
    "#     plt.show()"
   ]
  },
  {
   "cell_type": "code",
   "execution_count": 2,
   "metadata": {},
   "outputs": [],
   "source": [
    "# fig, ax = plt.subplots()\n",
    "# t = df['time']\n",
    "# for col in new_ks_cols:\n",
    "#     plt.plot(t, np.array(df[col]),color = new_ks_cols[col][-1],label=new_ks_cols[col][0])\n",
    "\n",
    "# plt.ylabel('Angular Velocity [Deg/s]')\n",
    "# plt.xlabel('Time [s]')\n",
    "# plt.autoscale(axis='x', tight=True)\n",
    "# plt.axvline(t[df['to_time'][0]], color='k',linestyle = '--',alpha=0.5)\n",
    "# plt.axvline(t[df['fc_10_time'][0]], color='k',linestyle = '--',alpha=0.5)\n",
    "# plt.axvline(t[df['lead_max_grf_time'][0]], color='k',linestyle = '--',alpha=0.5)\n",
    "# plt.axvline(t[df['bc_time'][0]], color='k',linestyle = '--',alpha=0.5)\n",
    "# plt.axhline(0,color='k',lw=0.9)  \n",
    "# plt.text(t[df['to_time'][0]],y = df['forearm_angular_velo'].max(), s='Toe Off',rotation = 90,verticalalignment='top',horizontalalignment='right')\n",
    "# plt.text(t[df['fc_10_time'][0]],y = df['forearm_angular_velo'].max(), s='Foot Contact',rotation = 90,verticalalignment='top',horizontalalignment='right')\n",
    "# plt.text(t[df['lead_max_grf_time'][0]],y = df['forearm_angular_velo'].max(), s='Max GRF',rotation = 90,verticalalignment='top',horizontalalignment='right')\n",
    "# plt.text(t[df['bc_time'][0]], y=df['forearm_angular_velo'].max(),s='Ball Contact', rotation=90,verticalalignment='top',horizontalalignment='right')\n",
    "# plt.legend()\n",
    "# plt.tight_layout()\n",
    "# plt.title('KINEMATIC SEQUENCE')\n",
    "# ax.spines['right'].set_visible(False)\n",
    "# ax.spines['top'].set_visible(False)\n",
    "# ax.spines['bottom'].set_visible(False)\n",
    "# ax.grid(axis='y')\n",
    "# plt.show()"
   ]
  },
  {
   "cell_type": "code",
   "execution_count": 3,
   "metadata": {},
   "outputs": [],
   "source": [
    "# for col in new_cols:\n",
    "#     plt.plot(t, np.array(df[col]), color = 'firebrick')\n",
    "#     plt.title(col)\n",
    "\n",
    "#     plt.autoscale(axis='x', tight=True)\n",
    "#     plt.axvline(t[df['to_time'][0]], color='k',linestyle = '--',alpha=0.5)\n",
    "#     plt.axvline(t[df['fc_10_time'][0]], color='k',linestyle = '--',alpha=0.5)\n",
    "#     plt.axvline(t[df['lead_max_grf_time'][0]], color='k',linestyle = '--',alpha=0.5)\n",
    "#     plt.axvline(t[df['bc_time'][0]], color='k',linestyle = '--',alpha=0.5)\n",
    "#     plt.axhline(0,color='k',lw=0.9)  \n",
    "#     plt.text(t[df['to_time'][0]],y = df[col].max(), s='Toe Off',rotation = 90,verticalalignment='top',horizontalalignment='right')\n",
    "#     plt.text(t[df['fc_10_time'][0]],y = df[col].max(), s='Foot Contact',rotation = 90,verticalalignment='top',horizontalalignment='right')\n",
    "#     plt.text(t[df['lead_max_grf_time'][0]],y = df[col].max(), s='Max GRF',rotation = 90,verticalalignment='top',horizontalalignment='right')\n",
    "#     plt.text(t[df['bc_time'][0]], y=df[col].max() ,s='Ball Contact', rotation=90,verticalalignment='top',horizontalalignment='right')\n",
    "#     plt.show()"
   ]
  }
 ],
 "metadata": {
  "kernelspec": {
   "display_name": "ML",
   "language": "python",
   "name": "python3"
  },
  "language_info": {
   "codemirror_mode": {
    "name": "ipython",
    "version": 3
   },
   "file_extension": ".py",
   "mimetype": "text/x-python",
   "name": "python",
   "nbconvert_exporter": "python",
   "pygments_lexer": "ipython3",
   "version": "3.11.5"
  }
 },
 "nbformat": 4,
 "nbformat_minor": 2
}
