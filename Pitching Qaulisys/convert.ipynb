{
 "cells": [
  {
   "cell_type": "code",
   "execution_count": 17,
   "metadata": {},
   "outputs": [],
   "source": [
    "import aspose.words as aw\n",
    "from glob import glob\n",
    "import os\n",
    "from pdf2docx import Converter"
   ]
  },
  {
   "cell_type": "code",
   "execution_count": 18,
   "metadata": {},
   "outputs": [],
   "source": [
    "day = 20240103\n",
    "file_list = [i.replace('\\\\','/') for i in glob(f'processed file/{day}/report/*pdf')]\n",
    "fname = [os.path.basename(i).replace('.pdf','') for i in file_list]"
   ]
  },
  {
   "cell_type": "code",
   "execution_count": 19,
   "metadata": {},
   "outputs": [],
   "source": [
    "file = file_list[0]\n",
    "name = fname[0]"
   ]
  },
  {
   "cell_type": "code",
   "execution_count": 21,
   "metadata": {},
   "outputs": [
    {
     "data": {
      "text/plain": [
       "<aspose.words.saving.SaveOutputParameters object at 0x11dd8db30>"
      ]
     },
     "execution_count": 21,
     "metadata": {},
     "output_type": "execute_result"
    }
   ],
   "source": [
    "doc = aw.Document(file)\n",
    "doc.save(f\"{os.path.split(file)[0]}/{name}.docx\")"
   ]
  },
  {
   "cell_type": "code",
   "execution_count": 22,
   "metadata": {},
   "outputs": [
    {
     "name": "stderr",
     "output_type": "stream",
     "text": [
      "[INFO] Start to convert processed file/20240103/report/20240103_ryuhanjun_0003_Right_baseball_report.pdf\n",
      "[INFO] \u001b[1;36m[1/4] Opening document...\u001b[0m\n",
      "[INFO] \u001b[1;36m[2/4] Analyzing document...\u001b[0m\n",
      "[INFO] \u001b[1;36m[3/4] Parsing pages...\u001b[0m\n",
      "[INFO] (1/15) Page 1\n",
      "[INFO] (2/15) Page 2\n",
      "[INFO] (3/15) Page 3\n",
      "[INFO] (4/15) Page 4\n",
      "[INFO] (5/15) Page 5\n",
      "[INFO] (6/15) Page 6\n",
      "[INFO] (7/15) Page 7\n",
      "[INFO] (8/15) Page 8\n",
      "[INFO] (9/15) Page 9\n",
      "[INFO] (10/15) Page 10\n",
      "[INFO] (11/15) Page 11\n",
      "[INFO] (12/15) Page 12\n",
      "[INFO] (13/15) Page 13\n",
      "[INFO] (14/15) Page 14\n",
      "[INFO] (15/15) Page 15\n",
      "[INFO] \u001b[1;36m[4/4] Creating pages...\u001b[0m\n",
      "[INFO] (1/15) Page 1\n",
      "[INFO] (2/15) Page 2\n",
      "[INFO] (3/15) Page 3\n",
      "[INFO] (4/15) Page 4\n",
      "[INFO] (5/15) Page 5\n",
      "[INFO] (6/15) Page 6\n",
      "[INFO] (7/15) Page 7\n",
      "[INFO] (8/15) Page 8\n",
      "[INFO] (9/15) Page 9\n",
      "[INFO] (10/15) Page 10\n",
      "[INFO] (11/15) Page 11\n",
      "[INFO] (12/15) Page 12\n",
      "[INFO] (13/15) Page 13\n",
      "[INFO] (14/15) Page 14\n",
      "[INFO] (15/15) Page 15\n",
      "[INFO] Terminated in 10.69s.\n"
     ]
    }
   ],
   "source": [
    "cv = Converter(file)\n",
    "cv.convert(f\"{os.path.split(file)[0]}/{name}.docx\")"
   ]
  },
  {
   "cell_type": "code",
   "execution_count": null,
   "metadata": {},
   "outputs": [],
   "source": []
  }
 ],
 "metadata": {
  "kernelspec": {
   "display_name": "ML",
   "language": "python",
   "name": "python3"
  },
  "language_info": {
   "codemirror_mode": {
    "name": "ipython",
    "version": 3
   },
   "file_extension": ".py",
   "mimetype": "text/x-python",
   "name": "python",
   "nbconvert_exporter": "python",
   "pygments_lexer": "ipython3",
   "version": "3.11.5"
  }
 },
 "nbformat": 4,
 "nbformat_minor": 2
}
