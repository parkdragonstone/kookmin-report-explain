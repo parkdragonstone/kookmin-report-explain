{
 "cells": [
  {
   "cell_type": "code",
   "execution_count": 16,
   "metadata": {},
   "outputs": [],
   "source": [
    "import os\n",
    "\n",
    "path = 'C:/Users/Administrator/Documents/Qualisys20240215/'\n",
    "\n",
    "# 이거만 폴더명 바꾸기 ###################################\n",
    "folder_name = '20240302_pitching'  #########################\n",
    "########################################################\n",
    "\n",
    "total_path = path + folder_name + '/C3D'"
   ]
  },
  {
   "cell_type": "code",
   "execution_count": 18,
   "metadata": {},
   "outputs": [
    {
     "data": {
      "text/plain": [
       "['songseokhyun']"
      ]
     },
     "execution_count": 18,
     "metadata": {},
     "output_type": "execute_result"
    }
   ],
   "source": [
    "player_list = [i.replace('_c3d','') for i in os.listdir(total_path)]\n",
    "player_list"
   ]
  },
  {
   "cell_type": "code",
   "execution_count": 21,
   "metadata": {},
   "outputs": [
    {
     "name": "stdout",
     "output_type": "stream",
     "text": [
      "14 14\n"
     ]
    }
   ],
   "source": [
    "all_trial = []\n",
    "all_player = []\n",
    "for player_nm in player_list:\n",
    "    triallist = os.listdir(total_path + f'/{player_nm}_c3d')\n",
    "    all_player.extend([player_nm]*len(triallist))\n",
    "    all_trial.extend(triallist)\n",
    "print(len(all_player), len(all_trial))"
   ]
  },
  {
   "cell_type": "code",
   "execution_count": 22,
   "metadata": {},
   "outputs": [
    {
     "data": {
      "text/plain": [
       "['0002',\n",
       " '0003',\n",
       " '0004',\n",
       " '0005',\n",
       " '0006',\n",
       " '0007',\n",
       " '0008',\n",
       " '0009',\n",
       " '0010',\n",
       " '0011',\n",
       " '0012',\n",
       " '0013',\n",
       " '0014',\n",
       " '0015']"
      ]
     },
     "execution_count": 22,
     "metadata": {},
     "output_type": "execute_result"
    }
   ],
   "source": [
    "triallist"
   ]
  },
  {
   "cell_type": "code",
   "execution_count": 23,
   "metadata": {},
   "outputs": [
    {
     "data": {
      "text/plain": [
       "14"
      ]
     },
     "execution_count": 23,
     "metadata": {},
     "output_type": "execute_result"
    }
   ],
   "source": [
    "file_name_list = []\n",
    "for i in range(len(all_player)):\n",
    "    file_name_list.append(all_player[i] + '_' + all_trial[i].split('-')[0] + '.c3d')\n",
    "len(file_name_list)"
   ]
  },
  {
   "cell_type": "code",
   "execution_count": 25,
   "metadata": {},
   "outputs": [],
   "source": [
    "i = 0\n",
    "for player_nm in player_list:\n",
    "    tmp_tri_list = os.listdir(total_path + f'/{player_nm}_c3d')\n",
    "    for tri_nm in tmp_tri_list:\n",
    "        file_nm = os.listdir(total_path + f'/{player_nm}_c3d/{tri_nm}')\n",
    "        ori = os.path.join(total_path + f'/{player_nm}_c3d/{tri_nm}', file_nm[0]).replace('\\\\', '/')\n",
    "        cha = os.path.join(total_path, file_name_list[i]).replace('\\\\', '/')\n",
    "        os.rename(ori, cha)\n",
    "        i += 1"
   ]
  },
  {
   "cell_type": "code",
   "execution_count": null,
   "metadata": {},
   "outputs": [],
   "source": []
  }
 ],
 "metadata": {
  "kernelspec": {
   "display_name": "base",
   "language": "python",
   "name": "python3"
  },
  "language_info": {
   "codemirror_mode": {
    "name": "ipython",
    "version": 3
   },
   "file_extension": ".py",
   "mimetype": "text/x-python",
   "name": "python",
   "nbconvert_exporter": "python",
   "pygments_lexer": "ipython3",
   "version": "3.11.5"
  },
  "orig_nbformat": 4
 },
 "nbformat": 4,
 "nbformat_minor": 2
}
