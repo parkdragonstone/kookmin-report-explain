{
 "cells": [
  {
   "cell_type": "code",
   "execution_count": 25,
   "metadata": {},
   "outputs": [],
   "source": [
    "import matplotlib.pyplot as plt\n",
    "import numpy as np\n",
    "import pandas as pd\n",
    "import os\n",
    "from glob import glob\n",
    "from PSG_PDF import PDF, report_data\n",
    "\n",
    "from pylab import rcParams\n",
    "rcParams['figure.figsize'] = 12,4"
   ]
  },
  {
   "cell_type": "code",
   "execution_count": 26,
   "metadata": {},
   "outputs": [],
   "source": [
    "day = '20231220'\n",
    "\n",
    "kine_list = [i.replace('\\\\','/') for i in sorted(glob(f'processed file/{day}/kine/*csv'))]\n",
    "force_list = [i.replace('\\\\','/') for i in sorted(glob(f'processed file/{day}/force/*csv'))]\n",
    "\n",
    "kine_name = [f\"{os.path.basename(i).split('.')[0]}\" for i in kine_list]\n",
    "force_name = [f\"{os.path.basename(i).split('.')[0]}\" for i in force_list]"
   ]
  },
  {
   "cell_type": "code",
   "execution_count": 27,
   "metadata": {},
   "outputs": [],
   "source": [
    "kine_data = {}\n",
    "for k, n in zip(kine_list, kine_name):\n",
    "    kine_data[n] = k\n",
    "    \n",
    "force_data = {}\n",
    "for f, n in zip(force_list, force_name):\n",
    "    force_data[n] = f"
   ]
  },
  {
   "cell_type": "code",
   "execution_count": 28,
   "metadata": {},
   "outputs": [],
   "source": [
    "ks_cols = {\n",
    "    'PELVIS_ANGLUAR_VELOCITY_Z'        : ['PELVIS'   , 'r'],\n",
    "    'TORSO_ANGLUAR_VELOCITY_Z'         : ['TORSO'    , 'g'],\n",
    "    'LEAD_ELBOW_ANGULAR_VELOCITY_X'    : ['ELBOW'    , 'b'],\n",
    "    'LEAD_SHOULDER_ANGULAR_VELOCITY_Z' : ['SHOULDER' , 'y'],\n",
    "}\n",
    "\n",
    "ang_cols = {\n",
    "    'TORSO_PELVIS_ANGULAR_VELOCITY_Z' : 'Hip-Shoulder Separation',\n",
    "    'LEAD_ELBOW_ANGLE_X'              : 'ELBOW FLEXION',\n",
    "    'LEAD_SHOULDER_ANGLE_Z'           : 'SHOULDER EXTERNAL ROTATION',          \n",
    "    'LEAD_SHOULDER_ANGLE_X'           : 'SHOULDER HORIZONTAL ABDUCTION',\n",
    "    'LEAD_KNEE_ANGULAR_VELOCITY_X'    : 'LEAD LEG KNEE EXTENSION ANGULAR VELOCITY',\n",
    "    'LEAD_SHOULDER_ANGLE_Y'           : 'SHOULDER ABDUCTION', \n",
    "    'LEAD_KNEE_ANGLE_X'               : 'LEAD LEG KNEE FLEXION',\n",
    "    'TORSO_ANGLE_X'                   : 'TRUNK FORWARD TILT',\n",
    "    'TORSO_ANGLE_Y'                   : 'TRUNK LATERAL TILT',\n",
    "}\n",
    "\n",
    "ap_cols = {\n",
    "    'REAR_FORCE_Y' : ['Trail Leg' , 'b'],\n",
    "    'LEAD_FORCE_Y' : ['Stride Leg', 'r'],\n",
    "}\n",
    "\n",
    "vt_cols = {\n",
    "    'REAR_FORCE_Z' : ['Trail Leg' , 'b'],\n",
    "    'LEAD_FORCE_Z' : ['Stride Leg', 'r']\n",
    "}"
   ]
  },
  {
   "cell_type": "code",
   "execution_count": 29,
   "metadata": {},
   "outputs": [],
   "source": [
    "name = 'cheonyunnyeong_0001_R_80_185_OH_130_S'\n",
    "kine = kine_data[name]\n",
    "force = force_data[name]"
   ]
  },
  {
   "cell_type": "code",
   "execution_count": 30,
   "metadata": {},
   "outputs": [],
   "source": [
    "player, trial, side, weight, height, type, ballspeed, _= name.split('_')"
   ]
  },
  {
   "cell_type": "code",
   "execution_count": 31,
   "metadata": {},
   "outputs": [],
   "source": [
    "k_df = pd.read_csv(kine)\n",
    "f_df = pd.read_csv(force)\n",
    "\n",
    "k_sr = 180\n",
    "k_kh_time = k_df['kh_time'][0]\n",
    "k_fp_time = k_df['fp_time'][0] - k_kh_time\n",
    "k_mer_time = k_df['mer_time'][0] - k_kh_time\n",
    "k_br_time = k_df['br_time'][0] - k_kh_time\n",
    "\n",
    "f_sr = 1080\n",
    "f_kh_time = f_df['kh_time'][0] \n",
    "f_fp_time = f_df['fp_time'][0] - f_kh_time\n",
    "f_mer_time = f_df['mer_time'][0] - f_kh_time\n",
    "f_br_time = f_df['br_time'][0] - f_kh_time\n",
    "\n",
    "k_df = k_df.iloc[k_kh_time:int(k_br_time + k_kh_time + (k_sr * 0.2)),:].reset_index(drop=True)\n",
    "f_df = f_df.iloc[f_kh_time:int(f_br_time + f_kh_time + (f_sr * 0.2)),:].reset_index(drop=True)\n",
    "\n",
    "k_df.drop(['kh_time','fc_time','fp_time','mer_time','br_time','mir_time'], axis=1, inplace=True)\n",
    "f_df.drop(['kh_time','fc_time','fp_time','mer_time','br_time','mir_time'], axis=1, inplace=True)\n",
    "\n",
    "k_len = len(k_df)\n",
    "k_time = np.arange(0,k_len/k_sr, 1/k_sr)\n",
    "\n",
    "f_len = len(f_df)\n",
    "f_time = np.arange(0,f_len/f_sr, 1/f_sr)\n",
    "\n",
    "k_fc_br = k_br_time - k_fp_time\n",
    "f_fc_br = f_br_time - f_fp_time"
   ]
  },
  {
   "cell_type": "code",
   "execution_count": 32,
   "metadata": {},
   "outputs": [],
   "source": [
    "y   = report_data.grf(f_df, ap_cols, f_time, f_fp_time, f_mer_time, f_br_time, axis='ap')\n",
    "z   = report_data.grf(f_df, vt_cols, f_time, f_fp_time, f_mer_time, f_br_time, axis='vt')\n",
    "ang = report_data.one_angle(k_df, ang_cols, k_time, k_fp_time, k_mer_time, k_br_time)\n",
    "ks  = report_data.kinematic_sequence(k_df, ks_cols, k_time, k_fp_time, k_mer_time, k_br_time)"
   ]
  },
  {
   "cell_type": "code",
   "execution_count": null,
   "metadata": {},
   "outputs": [],
   "source": []
  }
 ],
 "metadata": {
  "kernelspec": {
   "display_name": "ML",
   "language": "python",
   "name": "python3"
  },
  "language_info": {
   "codemirror_mode": {
    "name": "ipython",
    "version": 3
   },
   "file_extension": ".py",
   "mimetype": "text/x-python",
   "name": "python",
   "nbconvert_exporter": "python",
   "pygments_lexer": "ipython3",
   "version": "3.11.5"
  }
 },
 "nbformat": 4,
 "nbformat_minor": 2
}
