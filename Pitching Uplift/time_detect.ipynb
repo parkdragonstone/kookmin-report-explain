{
 "cells": [
  {
   "cell_type": "code",
   "execution_count": 1,
   "metadata": {},
   "outputs": [],
   "source": [
    "import numpy as np\n",
    "import matplotlib.pyplot as plt\n",
    "import pandas as pd\n",
    "from glob import glob\n",
    "from pylab import rcParams\n",
    "import os\n",
    "import warnings\n",
    "import scipy.signal as signal\n",
    "warnings.filterwarnings('ignore')\n",
    "from datetime import datetime\n",
    "rcParams['figure.figsize'] = 12,4\n",
    "rcParams['savefig.dpi'] = 300\n",
    "from detecta import detect_onset, detect_peaks\n",
    "from tqdm import tqdm\n",
    "logo_path = 'logo/'\n",
    "now = datetime.now().strftime('%Y%m%d')"
   ]
  },
  {
   "cell_type": "code",
   "execution_count": 2,
   "metadata": {},
   "outputs": [
    {
     "data": {
      "text/plain": [
       "['data/20240213/uplift_data_export_20240213064026.csv',\n",
       " 'data/20240213/uplift_data_export_20240213064057.csv',\n",
       " 'data/20240213/uplift_data_export_20240213064209.csv',\n",
       " 'data/20240213/uplift_data_export_20240213064237.csv',\n",
       " 'data/20240213/uplift_data_export_20240213064250.csv',\n",
       " 'data/20240213/uplift_data_export_20240213064308.csv',\n",
       " 'data/20240213/uplift_data_export_20240213064330.csv',\n",
       " 'data/20240213/uplift_data_export_20240213064354.csv',\n",
       " 'data/20240213/uplift_data_export_20240213064408.csv',\n",
       " 'data/20240213/uplift_data_export_20240213064423.csv',\n",
       " 'data/20240213/uplift_data_export_20240213064450.csv',\n",
       " 'data/20240213/uplift_data_export_20240213064531.csv',\n",
       " 'data/20240213/uplift_data_export_20240213064607.csv',\n",
       " 'data/20240213/uplift_data_export_20240213064641.csv',\n",
       " 'data/20240213/uplift_data_export_20240213065133.csv',\n",
       " 'data/20240213/uplift_data_export_20240213065512.csv']"
      ]
     },
     "execution_count": 2,
     "metadata": {},
     "output_type": "execute_result"
    }
   ],
   "source": [
    "day = 20240213\n",
    "players = pd.read_excel(f'data/{day}/player information.xlsx', index_col='name')\n",
    "file_list = sorted(glob(f'data/{day}//*csv'))\n",
    "file_list"
   ]
  },
  {
   "cell_type": "code",
   "execution_count": 3,
   "metadata": {},
   "outputs": [
    {
     "name": "stderr",
     "output_type": "stream",
     "text": [
      "100%|██████████| 3/3 [00:00<00:00, 640.78it/s]\n",
      "100%|██████████| 3/3 [00:00<00:00, 886.56it/s]\n",
      "100%|██████████| 3/3 [00:00<00:00, 825.11it/s]\n",
      "100%|██████████| 3/3 [00:00<00:00, 828.97it/s]\n",
      "100%|██████████| 3/3 [00:00<00:00, 707.90it/s]\n",
      "100%|██████████| 3/3 [00:00<00:00, 782.42it/s]\n",
      "100%|██████████| 3/3 [00:00<00:00, 808.41it/s]\n",
      "100%|██████████| 3/3 [00:00<00:00, 734.60it/s]\n",
      "100%|██████████| 3/3 [00:00<00:00, 822.63it/s]\n",
      "100%|██████████| 3/3 [00:00<00:00, 872.60it/s]\n",
      "100%|██████████| 3/3 [00:00<00:00, 962.44it/s]\n",
      "100%|██████████| 3/3 [00:00<00:00, 1029.45it/s]\n",
      "100%|██████████| 3/3 [00:00<00:00, 843.13it/s]\n",
      "100%|██████████| 3/3 [00:00<00:00, 869.35it/s]\n",
      "100%|██████████| 3/3 [00:00<00:00, 791.73it/s]\n",
      "100%|██████████| 3/3 [00:00<00:00, 918.80it/s]\n"
     ]
    },
    {
     "data": {
      "text/plain": [
       "['n51_011',\n",
       " 'n51_005',\n",
       " 'n51_008',\n",
       " 'n52_004',\n",
       " 'n52_005',\n",
       " 'n52_006',\n",
       " 'n53_011',\n",
       " 'n53_024',\n",
       " 'n53_009',\n",
       " 'n54_027',\n",
       " 'n54_029',\n",
       " 'n54_008',\n",
       " 'n65_014',\n",
       " 'n65_004',\n",
       " 'n65_006',\n",
       " 'n55_001',\n",
       " 'n55_005',\n",
       " 'n55_006',\n",
       " 'n64_010',\n",
       " 'n64_014',\n",
       " 'n64_008',\n",
       " 'n57_001',\n",
       " 'n57_003',\n",
       " 'n57_009',\n",
       " 'n63_016',\n",
       " 'n63_017',\n",
       " 'n63_019',\n",
       " 'n58_001',\n",
       " 'n58_015',\n",
       " 'n58_006',\n",
       " 'n62_013',\n",
       " 'n62_003',\n",
       " 'n62_005',\n",
       " 'n61_001',\n",
       " 'n61_020',\n",
       " 'n61_003',\n",
       " 'n60_012',\n",
       " 'n60_017',\n",
       " 'n60_006',\n",
       " 'n59_014',\n",
       " 'n59_015',\n",
       " 'n59_002',\n",
       " 'n56_013',\n",
       " 'n56_004',\n",
       " 'n56_005',\n",
       " 'n66_013',\n",
       " 'n66_016',\n",
       " 'n66_028']"
      ]
     },
     "execution_count": 3,
     "metadata": {},
     "output_type": "execute_result"
    }
   ],
   "source": [
    "all_sessions = []\n",
    "data = {}\n",
    "for file in file_list:\n",
    "    df = pd.read_csv(file)\n",
    "    sessions = df.sessionid.unique()\n",
    "    for session in tqdm(sessions):\n",
    "        d = df[df['sessionid'] == session].sort_values('frame').reset_index(drop=True)\n",
    "        side = d['handedness'][0]\n",
    "        trial = str(session.split('_')[-1]).zfill(3)\n",
    "        name = d['athlete_name'][0].replace(' ','')\n",
    "        all_sessions.append(f\"{name}_{trial}\")\n",
    "        data[f\"{name}_{trial}\"] = d.round(3)\n",
    "all_sessions"
   ]
  },
  {
   "cell_type": "code",
   "execution_count": 4,
   "metadata": {},
   "outputs": [],
   "source": [
    "session = 'n54_027'"
   ]
  },
  {
   "cell_type": "code",
   "execution_count": 5,
   "metadata": {},
   "outputs": [
    {
     "name": "stdout",
     "output_type": "stream",
     "text": [
      "FC Frame : 580\n",
      "BC Frame : 615\n"
     ]
    }
   ],
   "source": [
    "print(f\"FC Frame : {np.where(data[session]['trunk_twist_clockwise'] == -30.648)[0][0]}\")\n",
    "print(f\"BC Frame : {np.where(data[session]['trunk_twist_clockwise'] == 10.767)[0][0]}\")"
   ]
  },
  {
   "cell_type": "code",
   "execution_count": 3,
   "metadata": {},
   "outputs": [
    {
     "data": {
      "text/plain": [
       "[2, 1, 3]"
      ]
     },
     "execution_count": 3,
     "metadata": {},
     "output_type": "execute_result"
    }
   ],
   "source": [
    "my_list = [10.4, -30.5, 20.1]\n",
    "\n",
    "# 값이 큰 순서대로 정렬된 인덱스 리스트 얻기\n",
    "sorted_indexes = [i + 1 for i in sorted(range(len(my_list)), key=lambda k: my_list[k], reverse=False)]\n",
    "sorted_indexes"
   ]
  }
 ],
 "metadata": {
  "kernelspec": {
   "display_name": "ML",
   "language": "python",
   "name": "python3"
  },
  "language_info": {
   "codemirror_mode": {
    "name": "ipython",
    "version": 3
   },
   "file_extension": ".py",
   "mimetype": "text/x-python",
   "name": "python",
   "nbconvert_exporter": "python",
   "pygments_lexer": "ipython3",
   "version": "3.11.5"
  }
 },
 "nbformat": 4,
 "nbformat_minor": 2
}
